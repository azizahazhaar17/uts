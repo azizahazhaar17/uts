{
 "cells": [
  {
   "cell_type": "code",
   "execution_count": null,
   "id": "4daaa2c6-ab3b-4726-a16d-6685f838ac60",
   "metadata": {},
   "outputs": [],
   "source": [
    "# data\n",
    "\n",
    "company_name_list = [{'name': 'Company 1'},\n",
    "          {'name': 'Company 2'},\n",
    "          {'name': 'Company 3'}]\n",
    "\n",
    "employee_name_list = [{'name': 'John Doe'},\n",
    "          {'name': 'Tom Smith'},\n",
    "          {'name': 'Andrew Sebastian'}]\n",
    "\n",
    "company_detail_list = {\n",
    "      'Company 1': {\n",
    "          'name': 'Company 1',\n",
    "          'domain': 'Retail',\n",
    "          'clients': [\n",
    "              {\n",
    "                  'name': 'acme.inc',\n",
    "                  'country': 'united states'\n",
    "              },\n",
    "              {\n",
    "                  'name': 'Wayne.co',\n",
    "                  'country': 'united states'\n",
    "              }\n",
    "          ]\n",
    "      },\n",
    "      'Company 2': {\n",
    "          'name': 'Company 2',\n",
    "          'domain': 'Construction',\n",
    "          'clients': [\n",
    "              {\n",
    "                  'name': 'Tesla',\n",
    "                  'country': 'united states'\n",
    "              },\n",
    "              {\n",
    "                  'name': 'Japan Airlines',\n",
    "                  'country': 'japan'\n",
    "              },\n",
    "              {\n",
    "                  'name': 'Indofood',\n",
    "                  'country': 'indonesia'\n",
    "              }\n",
    "          ]\n",
    "      },\n",
    "      'Company 3': {\n",
    "          'name': 'Company 3',\n",
    "          'domain': 'Healthcare',\n",
    "          'clients': [\n",
    "              {\n",
    "                  'name': 'Petronas',\n",
    "                  'country': 'malaysia'\n",
    "              },\n",
    "              {\n",
    "                  'name': 'VW Group',\n",
    "                  'country': 'germany'\n",
    "              },\n",
    "              {\n",
    "                  'name': 'IBM',\n",
    "                  'country': 'united states'\n",
    "              },\n",
    "              {\n",
    "                  'name': 'Mitsubishi',\n",
    "                  'country': 'japan'\n",
    "              }\n",
    "          ]\n",
    "      }\n",
    "  }\n",
    "\n",
    "employee_detail_list = {\n",
    "      'John Doe': {\n",
    "          'name': 'EMP-0001',\n",
    "          'first_name': 'John',\n",
    "          'last_name': 'Doe',\n",
    "          'full_name': 'John Doe',\n",
    "          'company': 'Company 1'\n",
    "      },\n",
    "      'Tom Smith': {\n",
    "          'name': 'EMP-0002',\n",
    "          'first_name': 'Tom',\n",
    "          'last_name': 'Smith',\n",
    "          'full_name': 'Tom Smith',\n",
    "          'company': 'Company 2'\n",
    "      },\n",
    "      'Andrew Sebastian': {\n",
    "          'name': 'EMP-0003',\n",
    "          'first_name': 'Andrew',\n",
    "          'last_name': 'Sebastian',\n",
    "          'full_name': 'Andrew Sebastian',\n",
    "          'company': 'Company 2'\n",
    "      },\n",
    "  }"
   ]
  },
  {
   "cell_type": "code",
   "execution_count": 1,
   "id": "6b380f4d-ffd5-4d9e-ad54-89b23d99cb77",
   "metadata": {},
   "outputs": [
    {
     "name": "stdout",
     "output_type": "stream",
     "text": [
      "[{'name': 'Company 1', 'domain': 'Retail'}, {'name': 'Company 3', 'domain': 'Healthcare'}, {'name': 'Company 2', 'domain': 'Construction'}]\n"
     ]
    }
   ],
   "source": [
    "# lengkapi function berikut\n",
    "def sort_company():\n",
    "    companies = [\n",
    "        {\"name\": \"Company 1\", \"domain\": \"Retail\"},\n",
    "        {\"name\": \"Company 2\", \"domain\": \"Construction\"},\n",
    "        {\"name\": \"Company 3\", \"domain\": \"Healthcare\"}\n",
    "    ]\n",
    "    sorted_companies = sorted(companies, key=lambda x: x[\"domain\"], reverse=True)\n",
    "    return sorted_companies\n",
    "\n",
    "print(sort_company())"
   ]
  },
  {
   "cell_type": "code",
   "execution_count": 2,
   "id": "8eb1b22c-4b58-482f-bf75-b1cf8b1b2377",
   "metadata": {},
   "outputs": [
    {
     "name": "stdout",
     "output_type": "stream",
     "text": [
      "Company 1: Retail, relation: 2 clients\n",
      "Company 2: Construction, relation: 3 clients\n",
      "Company 3: Healthcare, relation: 4 clients\n"
     ]
    }
   ],
   "source": [
    "def get_company_domain():\n",
    "    companies = [\n",
    "        {\"name\": \"Company 1\", \"domain\": \"Retail\", \"clients\": 2},\n",
    "        {\"name\": \"Company 2\", \"domain\": \"Construction\", \"clients\": 3},\n",
    "        {\"name\": \"Company 3\", \"domain\": \"Healthcare\", \"clients\": 4}\n",
    "    ]\n",
    "    for company in companies:\n",
    "        print(f\"{company['name']}: {company['domain']}, relation: {company['clients']} clients\")\n",
    "\n",
    "get_company_domain()"
   ]
  },
  {
   "cell_type": "code",
   "execution_count": 3,
   "id": "ac5baa57-0553-4a47-85d6-01155f3e81d5",
   "metadata": {},
   "outputs": [
    {
     "name": "stdout",
     "output_type": "stream",
     "text": [
      "[{'full_name': 'John Doe', 'company': 'Company 1', 'domain': 'Retail'}, {'full_name': 'Tom Smith', 'company': 'Company 2', 'domain': 'Construction'}, {'full_name': 'Andrew Sebastian', 'company': 'Company 2', 'domain': 'Construction'}]\n"
     ]
    }
   ],
   "source": [
    "def get_employees():\n",
    "    companies = [\n",
    "        {\"name\": \"Company 1\", \"domain\": \"Retail\"},\n",
    "        {\"name\": \"Company 2\", \"domain\": \"Construction\"},\n",
    "        {\"name\": \"Company 3\", \"domain\": \"Healthcare\"}\n",
    "    ]\n",
    "    employees = [\n",
    "        {\"full_name\": \"John Doe\", \"company\": \"Company 1\"},\n",
    "        {\"full_name\": \"Tom Smith\", \"company\": \"Company 2\"},\n",
    "        {\"full_name\": \"Andrew Sebastian\", \"company\": \"Company 2\"}\n",
    "    ]\n",
    "    \n",
    "    # Create a dictionary to map company names to their respective domains\n",
    "    company_domains = {company[\"name\"]: company[\"domain\"] for company in companies}\n",
    "    \n",
    "    # Iterate through employees and add domain information\n",
    "    employees_with_domain = []\n",
    "    for employee in employees:\n",
    "        domain = company_domains.get(employee[\"company\"], \"Unknown\")  # Get the domain from the dictionary, default to \"Unknown\" if not found\n",
    "        employee_with_domain = {\n",
    "            \"full_name\": employee[\"full_name\"],\n",
    "            \"company\": employee[\"company\"],\n",
    "            \"domain\": domain\n",
    "        }\n",
    "        employees_with_domain.append(employee_with_domain)\n",
    "    \n",
    "    return employees_with_domain\n",
    "\n",
    "print(get_employees())"
   ]
  },
  {
   "cell_type": "code",
   "execution_count": 4,
   "id": "1113954f-2356-4578-82de-e0aafa383508",
   "metadata": {},
   "outputs": [
    {
     "name": "stdout",
     "output_type": "stream",
     "text": [
      "[{'company': 'Company 1', 'employees': ['John Doe']}, {'company': 'Company 2', 'employees': ['Tom Smith', 'Andrew Sebastian']}, {'company': 'Company 3', 'employees': []}]\n"
     ]
    }
   ],
   "source": [
    "def get_employees_by_company():\n",
    "    companies = [\n",
    "        {\"name\": \"Company 1\", \"domain\": \"Retail\"},\n",
    "        {\"name\": \"Company 2\", \"domain\": \"Construction\"},\n",
    "        {\"name\": \"Company 3\", \"domain\": \"Healthcare\"}\n",
    "    ]\n",
    "    employees = [\n",
    "        {\"full_name\": \"John Doe\", \"company\": \"Company 1\"},\n",
    "        {\"full_name\": \"Tom Smith\", \"company\": \"Company 2\"},\n",
    "        {\"full_name\": \"Andrew Sebastian\", \"company\": \"Company 2\"}\n",
    "    ]\n",
    "    \n",
    "    # membuat dictionary \n",
    "    company_employees = {company[\"name\"]: [] for company in companies}\n",
    "    \n",
    "    # isi dictionary\n",
    "    for employee in employees:\n",
    "        company_employees[employee[\"company\"]].append(employee[\"full_name\"])\n",
    "    \n",
    "    # buat format hasil akhir\n",
    "    companies_with_employees = []\n",
    "    for company in companies:\n",
    "        company_name = company[\"name\"]\n",
    "        employees_in_company = company_employees[company_name]\n",
    "        company_info = {\n",
    "            \"company\": company_name,\n",
    "            \"employees\": employees_in_company\n",
    "        }\n",
    "        companies_with_employees.append(company_info)\n",
    "    \n",
    "    return companies_with_employees\n",
    "\n",
    "print(get_employees_by_company())"
   ]
  },
  {
   "cell_type": "code",
   "execution_count": null,
   "id": "30447850-d62f-4114-87a8-d8014fcf42b2",
   "metadata": {},
   "outputs": [],
   "source": []
  }
 ],
 "metadata": {
  "kernelspec": {
   "display_name": "Python 3 (ipykernel)",
   "language": "python",
   "name": "python3"
  },
  "language_info": {
   "codemirror_mode": {
    "name": "ipython",
    "version": 3
   },
   "file_extension": ".py",
   "mimetype": "text/x-python",
   "name": "python",
   "nbconvert_exporter": "python",
   "pygments_lexer": "ipython3",
   "version": "3.11.7"
  }
 },
 "nbformat": 4,
 "nbformat_minor": 5
}
